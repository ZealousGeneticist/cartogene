{
 "cells": [
  {
   "cell_type": "code",
   "execution_count": 1,
   "id": "5ce517c2",
   "metadata": {},
   "outputs": [],
   "source": [
    "##Take data of bioactive compounds and ask for what they interact with in homo sapiens\n",
    "#Retrieve data via CTD's batch Querry Tool, send an HTTP GET request to http://ctdbase.org/tools/batchQuery.go\n",
    "import requests, sys\n",
    "\n",
    "#Input and Output File\n",
    "infile = 'bioactive.tsv'\n",
    "outfile1 = 'interactions.tsv'\n",
    "\n",
    "\n",
    "#Define the Program to easily request data from chems and other types of data\n",
    "def cgixns(infile, outfile1, inputType='chem', actionTypes='ANY', debug=False):\n",
    "    with open(infile, 'r') as lines:\n",
    "        inTerms = lines.read()\n",
    "    #CTD URL Batch Querry with input\n",
    "    url = 'http://ctdbase.org/tools/batchQuery.go?report=cgixns&format=tsv&inputTerms='\n",
    "    get = requests.get(url+inTerms+'&'+'inputType='+inputType+'&'+'actionTypes='+actionTypes)\n",
    "    #Save interaction data in expdata folder\n",
    "    with open(outfile1, 'wb') as b:\n",
    "        b.write(get.content)\n",
    "    #Set debug=True if making/editing code\n",
    "    if debug == True:\n",
    "        print(inTerms)\n",
    "        print(type(get))\n",
    "        print(f\"{get.status_code}: {get.reason}\")\n",
    "        with open(infile, 'rb') as lines:\n",
    "            print(lines.read())\n",
    "    return print(\"Done! Have a great rest of your research! :)\")"
   ]
  },
  {
   "cell_type": "code",
   "execution_count": 2,
   "id": "a221b562",
   "metadata": {},
   "outputs": [
    {
     "name": "stdout",
     "output_type": "stream",
     "text": [
      "Done! Have a great rest of your research! :)\n"
     ]
    }
   ],
   "source": [
    "cgixns(infile, 'interactionsbinding.tsv',actionTypes='binding')"
   ]
  },
  {
   "cell_type": "code",
   "execution_count": null,
   "id": "365aa98c",
   "metadata": {},
   "outputs": [],
   "source": [
    "## Old Code\n",
    "#import requests, sys\n",
    "#url = 'http://ctdbase.org/tools/batchQuery.go?inputType=chem&queryFile=files&queryFileColumn=1&report=cgixns&format=tsv&actionTypes=ANY'\n",
    "#with open('bioactive1.tsv', 'rb') as lines:\n",
    "#    files = {'file':('bioactive1.tsv', lines)}\n",
    "#    print(files)\n",
    "#    post = requests.post(url, files=files)\n",
    "#    print(type(post))\n",
    "#    print(f\"{post.status_code}: {post.reason}\")\n",
    "#    #Save interaction data in expdata folder\n",
    "#    with open('interactions1.tsv', 'wb') as b:\n",
    "#        b.write(post.content)"
   ]
  }
 ],
 "metadata": {
  "kernelspec": {
   "display_name": "Python 3 (ipykernel)",
   "language": "python",
   "name": "python3"
  },
  "language_info": {
   "codemirror_mode": {
    "name": "ipython",
    "version": 3
   },
   "file_extension": ".py",
   "mimetype": "text/x-python",
   "name": "python",
   "nbconvert_exporter": "python",
   "pygments_lexer": "ipython3",
   "version": "3.9.13"
  }
 },
 "nbformat": 4,
 "nbformat_minor": 5
}
